{
 "cells": [
  {
   "cell_type": "code",
   "execution_count": 0,
   "metadata": {
    "application/vnd.databricks.v1+cell": {
     "cellMetadata": {
      "byteLimit": 2048000,
      "rowLimit": 10000
     },
     "inputWidgets": {},
     "nuid": "919ea72f-5205-43da-ae9c-46e0c558705d",
     "showTitle": false,
     "tableResultSettingsMap": {},
     "title": ""
    }
   },
   "outputs": [],
   "source": [
    "from pyspark.sql.types import StructType\n",
    "from pyspark.sql.functions import current_timestamp, from_utc_timestamp\n",
    "import delta\n"
   ]
  },
  {
   "cell_type": "code",
   "execution_count": 0,
   "metadata": {
    "application/vnd.databricks.v1+cell": {
     "cellMetadata": {
      "byteLimit": 2048000,
      "rowLimit": 10000
     },
     "inputWidgets": {},
     "nuid": "b28216c6-ead7-44df-b247-1bc93787f72a",
     "showTitle": false,
     "tableResultSettingsMap": {},
     "title": ""
    }
   },
   "outputs": [],
   "source": [
    "path_schema = '/Volumes/raw/tabnews/datalake/Ano_2022/Mês_05/Dia_06/Minuto_15/Segundo_20/*.json'\n",
    "sample_df = spark.read.option('multiline', 'true').json(path_schema)"
   ]
  },
  {
   "cell_type": "code",
   "execution_count": 0,
   "metadata": {
    "application/vnd.databricks.v1+cell": {
     "cellMetadata": {
      "byteLimit": 2048000,
      "rowLimit": 10000
     },
     "inputWidgets": {},
     "nuid": "2ea03916-491e-4508-85bc-d9a7cf1c5936",
     "showTitle": false,
     "tableResultSettingsMap": {},
     "title": ""
    }
   },
   "outputs": [],
   "source": [
    "path = '/Volumes/raw/tabnews/datalake/Ano_*/Mês_*/Dia_*/Minuto_*/Segundo_*/*.json'\n",
    "checkpoint_path = '/Volumes/raw/tabnews/datalake/checkpoint'\n",
    "schema = sample_df.schema\n",
    "\n",
    "df_streaming = (spark.readStream.format(\"cloudFiles\")\n",
    "                                .option(\"cloudFiles.format\", \"json\")\n",
    "                                .option(\"cloudFiles.schemaLocation\", checkpoint_path)\n",
    "                                .option(\"multiLine\", \"true\")\n",
    "                                .schema(schema)\n",
    "                                .load(path))"
   ]
  },
  {
   "cell_type": "code",
   "execution_count": 0,
   "metadata": {
    "application/vnd.databricks.v1+cell": {
     "cellMetadata": {
      "byteLimit": 2048000,
      "rowLimit": 10000
     },
     "inputWidgets": {},
     "nuid": "a1154428-7d32-4714-943b-cf2f2e418256",
     "showTitle": false,
     "tableResultSettingsMap": {},
     "title": ""
    }
   },
   "outputs": [],
   "source": [
    "delta_table = delta.DeltaTable.forName(spark, 'bronze.tabnews.Bronze_TabNews_Stream')\n",
    "query = \"\"\"\n",
    "SELECT *, \n",
    "       ROW_NUMBER() OVER (PARTITION BY id ORDER BY UPDATED_AT DESC) as row_num \n",
    "FROM global_temp.table_temp\"\"\"\n",
    "\n",
    "def upsert(df, delta_table, query):\n",
    "    df.createOrReplaceGlobalTempView('table_temp')\n",
    "    df_transformacao = spark.sql(query).filter(\"row_num = 1\").drop(\"row_num\")\n",
    "    (delta_table.alias(\"d\")\n",
    "                .merge(df_transformacao.alias(\"n\"), 'd.id = n.id')\n",
    "                .whenMatchedUpdateAll()\n",
    "                .whenNotMatchedInsertAll()\n",
    "                .execute())\n",
    "\n",
    "\n",
    "stream = (df_streaming.writeStream\n",
    "                      .foreachBatch(lambda df, batchID: upsert(df, delta_table, query))\n",
    "                      .option(\"checkpointLocation\", checkpoint_path)\n",
    "                      .trigger(availableNow=True)\n",
    "                      .start())"
   ]
  },
  {
   "cell_type": "code",
   "execution_count": 0,
   "metadata": {
    "application/vnd.databricks.v1+cell": {
     "cellMetadata": {
      "byteLimit": 2048000,
      "rowLimit": 10000
     },
     "inputWidgets": {},
     "nuid": "ea89ca59-d84a-4300-bfa9-3e4772ed7e89",
     "showTitle": false,
     "tableResultSettingsMap": {},
     "title": ""
    }
   },
   "outputs": [],
   "source": [
    "path = '/Volumes/raw/tabnews/datalake/Ano_2022/Mês_05/Dia_06/Minuto_15/Segundo_20/*.json'\n",
    "df = (spark.read.option('multiline', 'true')\n",
    "                .schema(sample_df.schema)\n",
    "                .json(path))\n",
    "df.createOrReplaceTempView('Raw_TabNews_LoadFull')"
   ]
  },
  {
   "cell_type": "code",
   "execution_count": 0,
   "metadata": {
    "application/vnd.databricks.v1+cell": {
     "cellMetadata": {
      "byteLimit": 2048000,
      "implicitDf": true,
      "rowLimit": 10000
     },
     "inputWidgets": {},
     "nuid": "2221a704-a33f-4550-9023-f124acf92415",
     "showTitle": false,
     "tableResultSettingsMap": {},
     "title": ""
    }
   },
   "outputs": [],
   "source": [
    "%sql\n",
    "CREATE OR REPLACE TEMPORARY VIEW somente_ultima_atualizacao AS\n",
    "SELECT * \n",
    "FROM Raw_TabNews_LoadFull\n",
    "QUALIFY ROW_NUMBER() OVER (PARTITION BY id ORDER BY UPDATED_AT DESC) = 1"
   ]
  },
  {
   "cell_type": "code",
   "execution_count": 0,
   "metadata": {
    "application/vnd.databricks.v1+cell": {
     "cellMetadata": {
      "byteLimit": 2048000,
      "rowLimit": 10000
     },
     "inputWidgets": {},
     "nuid": "483617ec-6d94-4d1e-a412-0736c9590277",
     "showTitle": false,
     "tableResultSettingsMap": {},
     "title": ""
    }
   },
   "outputs": [],
   "source": [
    "df_somente_ultima_atualizacao = spark.table(\"somente_ultima_atualizacao\")\n",
    "\n",
    "df_somente_ultima_atualizacao.write.mode('overwrite') \\\n",
    "                              .format('delta') \\\n",
    "                              .option('overwriteSchema', 'true') \\\n",
    "                              .option('mergeSchema', 'true') \\\n",
    "                              .saveAsTable('bronze.tabnews.Bronze_TabNews_Stream')"
   ]
  }
 ],
 "metadata": {
  "application/vnd.databricks.v1+notebook": {
   "computePreferences": null,
   "dashboards": [],
   "environmentMetadata": {
    "base_environment": "",
    "environment_version": "2"
   },
   "language": "python",
   "notebookMetadata": {
    "mostRecentlyExecutedCommandWithImplicitDF": {
     "commandId": 1933558404633311,
     "dataframes": [
      "_sqldf"
     ]
    },
    "pythonIndentUnit": 4
   },
   "notebookName": "(Streaming) Lendo os dados e criando tabela",
   "widgets": {}
  },
  "language_info": {
   "name": "python"
  }
 },
 "nbformat": 4,
 "nbformat_minor": 0
}
