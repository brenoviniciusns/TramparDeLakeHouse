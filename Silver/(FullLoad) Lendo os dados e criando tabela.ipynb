{
 "cells": [
  {
   "cell_type": "code",
   "execution_count": 0,
   "metadata": {
    "application/vnd.databricks.v1+cell": {
     "cellMetadata": {
      "byteLimit": 2048000,
      "implicitDf": true,
      "rowLimit": 10000
     },
     "inputWidgets": {},
     "nuid": "cce4b1b2-3d31-4300-acdc-6d77a5dcbdad",
     "showTitle": false,
     "tableResultSettingsMap": {},
     "title": ""
    }
   },
   "outputs": [],
   "source": [
    "query_leitura = \"\"\"SELECT id as ID_Post, \n",
    "       owner_id as ID_Autor,\n",
    "       title as NOME_Titulo,\n",
    "       owner_username as NOME_Autor, \n",
    "       created_at as DATA_Criacao,\n",
    "       published_at as DATA_Publicacao, \n",
    "       updated_at as DATA_Atualizacao, \n",
    "       slug AS NOME_Pesquisa\n",
    "\n",
    "FROM bronze.tabnews.bronze_tabnews_stream\"\"\"\n"
   ]
  },
  {
   "cell_type": "code",
   "execution_count": 0,
   "metadata": {
    "application/vnd.databricks.v1+cell": {
     "cellMetadata": {
      "byteLimit": 2048000,
      "rowLimit": 10000
     },
     "inputWidgets": {},
     "nuid": "0e4a20c4-b2f5-4eec-843d-f8945d38c23d",
     "showTitle": false,
     "tableResultSettingsMap": {},
     "title": ""
    }
   },
   "outputs": [],
   "source": [
    "df=spark.sql(query_leitura)\n",
    "df.write.mode(\"overwrite\").format(\"delta\").option(\"overwriteSchema\", \"true\").saveAsTable(\"silver.tabnews.silver_tabnews_loadfull\")"
   ]
  }
 ],
 "metadata": {
  "application/vnd.databricks.v1+notebook": {
   "computePreferences": null,
   "dashboards": [],
   "environmentMetadata": {
    "base_environment": "",
    "environment_version": "2"
   },
   "language": "python",
   "notebookMetadata": {
    "mostRecentlyExecutedCommandWithImplicitDF": {
     "commandId": -1,
     "dataframes": [
      "_sqldf"
     ]
    },
    "pythonIndentUnit": 4
   },
   "notebookName": "(FullLoad) Lendo os dados e criando tabela",
   "widgets": {}
  },
  "language_info": {
   "name": "python"
  }
 },
 "nbformat": 4,
 "nbformat_minor": 0
}
