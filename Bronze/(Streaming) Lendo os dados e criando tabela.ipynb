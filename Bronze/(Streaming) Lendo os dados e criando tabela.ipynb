{
 "cells": [
  {
   "cell_type": "code",
   "execution_count": 0,
   "metadata": {
    "application/vnd.databricks.v1+cell": {
     "cellMetadata": {
      "byteLimit": 2048000,
      "rowLimit": 10000
     },
     "inputWidgets": {},
     "nuid": "919ea72f-5205-43da-ae9c-46e0c558705d",
     "showTitle": false,
     "tableResultSettingsMap": {},
     "title": ""
    }
   },
   "outputs": [],
   "source": [
    "from pyspark.sql.types import StructType\n",
    "import delta"
   ]
  },
  {
   "cell_type": "code",
   "execution_count": 0,
   "metadata": {
    "application/vnd.databricks.v1+cell": {
     "cellMetadata": {
      "byteLimit": 2048000,
      "rowLimit": 10000
     },
     "inputWidgets": {},
     "nuid": "a7997c7d-affa-4bf4-8604-aa360f9ed364",
     "showTitle": false,
     "tableResultSettingsMap": {},
     "title": ""
    }
   },
   "outputs": [],
   "source": [
    "path_stream = '/Volumes/raw/tabnews/datalake/Ano_*/Mês_*/Dia_*/Minuto_*/Segundo_*/*.json'\n",
    "path_batch = '/Volumes/raw/tabnews/datalake/Ano_2022/Mês_05/Dia_06/Minuto_15/Segundo_20/*.json'\n",
    "path_schema = '/Volumes/raw/tabnews/datalake/Ano_2022/Mês_05/Dia_06/Minuto_15/Segundo_20/*.json'\n",
    "path_checkpoint = '/Volumes/raw/tabnews/datalake/checkpoint'"
   ]
  },
  {
   "cell_type": "code",
   "execution_count": 0,
   "metadata": {
    "application/vnd.databricks.v1+cell": {
     "cellMetadata": {
      "byteLimit": 2048000,
      "rowLimit": 10000
     },
     "inputWidgets": {},
     "nuid": "284c94de-fad7-4a83-95b0-7dd5dddf26ae",
     "showTitle": false,
     "tableResultSettingsMap": {},
     "title": ""
    }
   },
   "outputs": [],
   "source": [
    "query_transformacao_batch = \"\"\"CREATE OR REPLACE TEMPORARY VIEW somente_ultima_atualizacao AS\n",
    "SELECT * \n",
    "FROM Raw_TabNews_LoadFull\n",
    "QUALIFY ROW_NUMBER() OVER (PARTITION BY id ORDER BY UPDATED_AT DESC) = 1\"\"\"\n",
    "query_transformacao_stream = \"\"\" SELECT *, \n",
    "       ROW_NUMBER() OVER (PARTITION BY id ORDER BY UPDATED_AT DESC) as row_num \n",
    "FROM global_temp.table_temp\"\"\"\n",
    "query_validador_tabela= \"\"\"SHOW TABLES FROM bronze.tabnews\"\"\""
   ]
  },
  {
   "cell_type": "code",
   "execution_count": 0,
   "metadata": {
    "application/vnd.databricks.v1+cell": {
     "cellMetadata": {
      "byteLimit": 2048000,
      "rowLimit": 10000
     },
     "inputWidgets": {},
     "nuid": "b28216c6-ead7-44df-b247-1bc93787f72a",
     "showTitle": false,
     "tableResultSettingsMap": {},
     "title": ""
    }
   },
   "outputs": [],
   "source": [
    "def definir_schema (path_schema=path_schema):\n",
    "    return (spark.read\n",
    "                 .option('multiline', 'true')\n",
    "                 .json(path_schema)\n",
    "                 .schema)\n",
    "\n",
    "\n",
    "def executando_em_batch(path_batch=path_batch,query_transformacao_batch=query_transformacao_batch): \n",
    "    df = (spark.read.option('multiline', 'true')\n",
    "                .schema(definir_schema())\n",
    "                .json(path_batch))\n",
    "    df.createOrReplaceTempView('Raw_TabNews_LoadFull')\n",
    "    spark.sql(query_transformacao_batch)\n",
    "    df_somente_ultima_atualizacao = spark.table(\"somente_ultima_atualizacao\")\n",
    "    df_somente_ultima_atualizacao.write.mode('overwrite') \\\n",
    "                                .format('delta') \\\n",
    "                                .option('overwriteSchema', 'true') \\\n",
    "                                .option('mergeSchema', 'true') \\\n",
    "                                .saveAsTable('bronze.tabnews.Bronze_TabNews_Stream')\n",
    "\n",
    "\n",
    "def upsert(df, delta_table, query):\n",
    "    df.createOrReplaceGlobalTempView('table_temp')\n",
    "    df_transformacao = (spark.sql(query)\n",
    "                             .filter(\"row_num = 1\")\n",
    "                             .drop(\"row_num\"))\n",
    "    (delta_table.alias(\"d\")\n",
    "                .merge(df_transformacao.alias(\"n\"), 'd.id = n.id')\n",
    "                .whenMatchedUpdateAll()\n",
    "                .whenNotMatchedInsertAll()\n",
    "                .execute())\n",
    "\n",
    "\n",
    "def validador_existencia_tabela (query_validador_tabela=query_validador_tabela):\n",
    "    validador_tabela_criada = (spark.sql(query_validador_tabela)\n",
    "                                    .filter(\"database == 'tabnews'\")\n",
    "                                    .filter(\"tableName == 'bronze_tabnews_stream'\")\n",
    "                                    .count())\n",
    "    return validador_tabela_criada == 1\n",
    "\n",
    "\n",
    "def executando_streaming (path_stream=path_stream, path_checkpoint=path_checkpoint):\n",
    "    delta_table = (delta.DeltaTable\n",
    "                        .forName(spark, 'bronze.tabnews.Bronze_TabNews_Stream'))\n",
    "    df_streaming = (spark.readStream.format(\"cloudFiles\")\n",
    "                                .option(\"cloudFiles.format\", \"json\")\n",
    "                                .option(\"cloudFiles.schemaLocation\", path_checkpoint)\n",
    "                                .option(\"multiLine\", \"true\")\n",
    "                                .schema(definir_schema())\n",
    "                                .load(path_stream)\n",
    "                                .writeStream\n",
    "                                .foreachBatch(lambda df, batchID: upsert(df, delta_table, query_transformacao_stream))\n",
    "                                .option(\"checkpointLocation\", path_checkpoint)\n",
    "                                .trigger(availableNow=True)\n",
    "                                .start())"
   ]
  },
  {
   "cell_type": "code",
   "execution_count": 0,
   "metadata": {
    "application/vnd.databricks.v1+cell": {
     "cellMetadata": {
      "byteLimit": 2048000,
      "rowLimit": 10000
     },
     "inputWidgets": {},
     "nuid": "cac4713b-57d6-4b76-8395-38b22d4ec87e",
     "showTitle": false,
     "tableResultSettingsMap": {},
     "title": ""
    }
   },
   "outputs": [],
   "source": [
    "if __name__ == \"__main__\":\n",
    "    if not validador_existencia_tabela():\n",
    "        executando_em_batch()\n",
    "        print('Criando a tabela Bronze_TabNews_Stream')\n",
    "        executando_streaming()\n",
    "    else:\n",
    "        print('Tabela já existente, executando streaming')\n",
    "        executando_streaming()        \n"
   ]
  }
 ],
 "metadata": {
  "application/vnd.databricks.v1+notebook": {
   "computePreferences": null,
   "dashboards": [],
   "environmentMetadata": {
    "base_environment": "",
    "environment_version": "2"
   },
   "language": "python",
   "notebookMetadata": {
    "mostRecentlyExecutedCommandWithImplicitDF": {
     "commandId": -1,
     "dataframes": [
      "_sqldf"
     ]
    },
    "pythonIndentUnit": 4
   },
   "notebookName": "(Streaming) Lendo os dados e criando tabela",
   "widgets": {}
  },
  "language_info": {
   "name": "python"
  }
 },
 "nbformat": 4,
 "nbformat_minor": 0
}
