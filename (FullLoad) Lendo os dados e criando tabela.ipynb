{
 "cells": [
  {
   "cell_type": "code",
   "execution_count": 0,
   "metadata": {
    "application/vnd.databricks.v1+cell": {
     "cellMetadata": {
      "byteLimit": 2048000,
      "rowLimit": 10000
     },
     "inputWidgets": {},
     "nuid": "919ea72f-5205-43da-ae9c-46e0c558705d",
     "showTitle": false,
     "tableResultSettingsMap": {},
     "title": ""
    }
   },
   "outputs": [],
   "source": [
    "from pyspark.sql.types import StructType\n",
    "from pyspark.sql.functions import current_timestamp, from_utc_timestamp\n"
   ]
  },
  {
   "cell_type": "code",
   "execution_count": 0,
   "metadata": {
    "application/vnd.databricks.v1+cell": {
     "cellMetadata": {
      "byteLimit": 2048000,
      "rowLimit": 10000
     },
     "inputWidgets": {},
     "nuid": "b28216c6-ead7-44df-b247-1bc93787f72a",
     "showTitle": false,
     "tableResultSettingsMap": {},
     "title": ""
    }
   },
   "outputs": [],
   "source": [
    "path_schema = '/Volumes/ingestao_dados/tabnews/dadostabnews/Ano_2025/Mês_01/Dia_01/Minuto_01/Segundo_08/96a2b741-e363-4146-b147-e4e3b8df9b23.json'\n",
    "sample_df = spark.read.option('multiline', 'true').json(path_schema)"
   ]
  },
  {
   "cell_type": "code",
   "execution_count": 0,
   "metadata": {
    "application/vnd.databricks.v1+cell": {
     "cellMetadata": {
      "byteLimit": 2048000,
      "rowLimit": 10000
     },
     "inputWidgets": {},
     "nuid": "ea89ca59-d84a-4300-bfa9-3e4772ed7e89",
     "showTitle": false,
     "tableResultSettingsMap": {},
     "title": ""
    }
   },
   "outputs": [],
   "source": [
    "path = '/Volumes/ingestao_dados/tabnews/dadostabnews/Ano_2025/Mês_01/Dia_01/Minuto_01/Segundo_08/*.json'\n",
    "df = (spark.read.option('multiline', 'true')\n",
    "                .schema(sample_df.schema)\n",
    "                .json(path))\n",
    "df_com_data_requisicao = df.withColumn('data_da_requisicao', from_utc_timestamp(current_timestamp(), \"America/Sao_Paulo\"))\n",
    "df_com_data_requisicao.createOrReplaceTempView('Raw_TabNews_2025')"
   ]
  },
  {
   "cell_type": "code",
   "execution_count": 0,
   "metadata": {
    "application/vnd.databricks.v1+cell": {
     "cellMetadata": {
      "byteLimit": 2048000,
      "implicitDf": true,
      "rowLimit": 10000
     },
     "inputWidgets": {},
     "nuid": "2221a704-a33f-4550-9023-f124acf92415",
     "showTitle": false,
     "tableResultSettingsMap": {},
     "title": ""
    }
   },
   "outputs": [],
   "source": [
    "%sql\n",
    "\n",
    "SELECT * \n",
    "FROM Raw_TabNews_2025\n",
    "QUALIFY ROW_NUMBER() OVER (PARTITION BY id ORDER BY UPDATED_AT DESC) = 1"
   ]
  },
  {
   "cell_type": "code",
   "execution_count": 0,
   "metadata": {
    "application/vnd.databricks.v1+cell": {
     "cellMetadata": {
      "byteLimit": 2048000,
      "rowLimit": 10000
     },
     "inputWidgets": {},
     "nuid": "483617ec-6d94-4d1e-a412-0736c9590277",
     "showTitle": false,
     "tableResultSettingsMap": {},
     "title": ""
    }
   },
   "outputs": [],
   "source": [
    "(df_com_data_requisicao.write.mode('overwrite')\n",
    "                       .format('delta')\n",
    "                       .option('OverWriteSchema', 'true')\n",
    "                       .saveAsTable('databricks_lagodomago.trampar_lakehouse.Bronze_TabNews'))"
   ]
  }
 ],
 "metadata": {
  "application/vnd.databricks.v1+notebook": {
   "computePreferences": null,
   "dashboards": [],
   "environmentMetadata": {
    "base_environment": "",
    "environment_version": "2"
   },
   "language": "python",
   "notebookMetadata": {
    "mostRecentlyExecutedCommandWithImplicitDF": {
     "commandId": 3413331083610605,
     "dataframes": [
      "_sqldf"
     ]
    },
    "pythonIndentUnit": 4
   },
   "notebookName": "(FullLoad) Lendo os dados e criando tabela",
   "widgets": {}
  },
  "language_info": {
   "name": "python"
  }
 },
 "nbformat": 4,
 "nbformat_minor": 0
}
